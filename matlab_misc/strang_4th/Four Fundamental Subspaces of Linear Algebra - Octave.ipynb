{
 "cells": [
  {
   "cell_type": "markdown",
   "metadata": {
    "toc": "true"
   },
   "source": [
    "# Table of Contents\n",
    " <p><div class=\"lev1 toc-item\"><a href=\"#Four-Fundamental-Subspaces-of-Linear-Algebra\" data-toc-modified-id=\"Four-Fundamental-Subspaces-of-Linear-Algebra-1\"><span class=\"toc-item-num\">1&nbsp;&nbsp;</span>Four Fundamental Subspaces of Linear Algebra</a></div><div class=\"lev1 toc-item\"><a href=\"#One-Liner\" data-toc-modified-id=\"One-Liner-2\"><span class=\"toc-item-num\">2&nbsp;&nbsp;</span>One Liner</a></div><div class=\"lev1 toc-item\"><a href=\"#LU\" data-toc-modified-id=\"LU-3\"><span class=\"toc-item-num\">3&nbsp;&nbsp;</span>LU</a></div><div class=\"lev1 toc-item\"><a href=\"#reduced-row-echelon-form:-E*A-=-R-factorization\" data-toc-modified-id=\"reduced-row-echelon-form:-E*A-=-R-factorization-4\"><span class=\"toc-item-num\">4&nbsp;&nbsp;</span>reduced row echelon form: E*A = R factorization</a></div><div class=\"lev1 toc-item\"><a href=\"#A-=-c-a-b-echelon-factorization\" data-toc-modified-id=\"A-=-c-a-b-echelon-factorization-5\"><span class=\"toc-item-num\">5&nbsp;&nbsp;</span>A = c a b echelon factorization</a></div><div class=\"lev1 toc-item\"><a href=\"#SVG\" data-toc-modified-id=\"SVG-6\"><span class=\"toc-item-num\">6&nbsp;&nbsp;</span><a href=\"http://blogs.mathworks.com/cleve/2016/11/29/four-fundamental-subspaces-of-linear-algebra-corrected/\" target=\"_blank\">SVG</a></a></div><div class=\"lev2 toc-item\"><a href=\"#Two-Subspaces-for-Column-and-Null\" data-toc-modified-id=\"Two-Subspaces-for-Column-and-Null-61\"><span class=\"toc-item-num\">6.1&nbsp;&nbsp;</span>Two Subspaces for Column and Null</a></div><div class=\"lev2 toc-item\"><a href=\"#Two-Subspaces-for-Row-and-Left-Null\" data-toc-modified-id=\"Two-Subspaces-for-Row-and-Left-Null-62\"><span class=\"toc-item-num\">6.2&nbsp;&nbsp;</span>Two Subspaces for Row and Left Null</a></div><div class=\"lev2 toc-item\"><a href=\"#examples\" data-toc-modified-id=\"examples-63\"><span class=\"toc-item-num\">6.3&nbsp;&nbsp;</span>examples</a></div>"
   ]
  },
  {
   "cell_type": "markdown",
   "metadata": {
    "run_control": {
     "frozen": false,
     "read_only": false
    }
   },
   "source": [
    "# Four Fundamental Subspaces of Linear Algebra"
   ]
  },
  {
   "cell_type": "markdown",
   "metadata": {
    "run_control": {
     "frozen": false,
     "read_only": false
    }
   },
   "source": [
    "Suppose that $A$ is a $m \\times n$ matrix that maps vectors in $R^n$ to vectors in $R^m$. The four fundamental subspaces associated with$A$, two in $R^n$ and two in $R^m$, are:\n",
    "\n",
    "* column space of $A$, the set of all $y$ in $R^m$ resulting from $y=Ax$,\n",
    "* row space of $A$, the set of all $x$ in $R^n$ resulting from $x=A^Ty$,\n",
    "* null space of $A$, the set of all xx in $R^n$ for which $Ax=0$,\n",
    "* left null space of $A$, the set of all yy in $R^m$ for which $A^Ty=0$."
   ]
  },
  {
   "cell_type": "markdown",
   "metadata": {
    "run_control": {
     "frozen": false,
     "read_only": false
    }
   },
   "source": [
    "- The row space and the null space are orthogonal to each other and span all of $R^n$. \n",
    "- The column space and the left null space are also orthogonal to each other and span all of $R^m$."
   ]
  },
  {
   "cell_type": "markdown",
   "metadata": {
    "run_control": {
     "frozen": false,
     "read_only": false
    }
   },
   "source": [
    "* The dimension of the row space is equal to the dimension of the column space."
   ]
  },
  {
   "cell_type": "markdown",
   "metadata": {
    "run_control": {
     "frozen": false,
     "read_only": false
    }
   },
   "source": [
    "# One Liner"
   ]
  },
  {
   "cell_type": "code",
   "execution_count": 21,
   "metadata": {
    "collapsed": false,
    "run_control": {
     "frozen": false,
     "read_only": false
    }
   },
   "outputs": [
    {
     "name": "stdout",
     "output_type": "stream",
     "text": [
      "A =\n",
      "\n",
      "    5    0    3\n",
      "   10    1    7\n",
      "   -5    0   -3\n",
      "\n",
      "ROW =\n",
      "\n",
      "   1.00000   0.00000\n",
      "   0.00000   1.00000\n",
      "   0.60000   1.00000\n",
      "\n",
      "N =\n",
      "\n",
      "  -0.60000\n",
      "  -1.00000\n",
      "   1.00000\n",
      "\n",
      "COL =\n",
      "\n",
      "    5    0\n",
      "   10    1\n",
      "   -5    0\n",
      "\n",
      "LN =\n",
      "\n",
      "   1\n",
      "   0\n",
      "   1\n",
      "\n"
     ]
    }
   ],
   "source": [
    "A =[5 0 3; 10 1 7; -5 0 -3]\n",
    "[ROW, N, COL, LN] = fourbase(A)"
   ]
  },
  {
   "cell_type": "markdown",
   "metadata": {
    "run_control": {
     "frozen": false,
     "read_only": false
    }
   },
   "source": [
    "# LU"
   ]
  },
  {
   "cell_type": "code",
   "execution_count": 8,
   "metadata": {
    "collapsed": false,
    "run_control": {
     "frozen": false,
     "read_only": false
    }
   },
   "outputs": [
    {
     "name": "stdout",
     "output_type": "stream",
     "text": [
      "A =\n",
      "\n",
      "    5    0    3\n",
      "   10    1    7\n",
      "   -5    0   -3\n",
      "\n"
     ]
    }
   ],
   "source": [
    "A =[5 0 3; 10 1 7; -5 0 -3]"
   ]
  },
  {
   "cell_type": "code",
   "execution_count": 11,
   "metadata": {
    "collapsed": false,
    "run_control": {
     "frozen": false,
     "read_only": false
    }
   },
   "outputs": [
    {
     "name": "stdout",
     "output_type": "stream",
     "text": [
      "Small pivot encountered in column 3.\n",
      "L =\n",
      "\n",
      "   1   0   0\n",
      "   2   1   0\n",
      "  -1   0   1\n",
      "\n",
      "U =\n",
      "\n",
      "   5   0   3\n",
      "   0   1   1\n",
      "   0   0   0\n",
      "\n"
     ]
    }
   ],
   "source": [
    "% A = L*U \n",
    "[L,U] = slu(A)"
   ]
  },
  {
   "cell_type": "markdown",
   "metadata": {
    "run_control": {
     "frozen": false,
     "read_only": false
    }
   },
   "source": [
    "# reduced row echelon form: E*A = R factorization"
   ]
  },
  {
   "cell_type": "markdown",
   "metadata": {
    "run_control": {
     "frozen": false,
     "read_only": false
    }
   },
   "source": [
    "http://math.rice.edu/~cc11/linear_algebra/lecture_5  "
   ]
  },
  {
   "cell_type": "code",
   "execution_count": 16,
   "metadata": {
    "collapsed": false,
    "run_control": {
     "frozen": false,
     "read_only": false
    }
   },
   "outputs": [
    {
     "name": "stdout",
     "output_type": "stream",
     "text": [
      "A =\n",
      "\n",
      "    5    0    3\n",
      "   10    1    7\n",
      "   -5    0   -3\n",
      "\n",
      "E =\n",
      "\n",
      "   0.00000   0.00000  -0.20000\n",
      "   0.00000   1.00000   2.00000\n",
      "   1.00000   0.00000   1.00000\n",
      "\n",
      "R =\n",
      "\n",
      "   1.00000   0.00000   0.60000\n",
      "   0.00000   1.00000   1.00000\n",
      "   0.00000   0.00000   0.00000\n",
      "\n"
     ]
    }
   ],
   "source": [
    "% E*A = R\n",
    "A =[5 0 3; 10 1 7; -5 0 -3]\n",
    "[E, R] = elim(A)"
   ]
  },
  {
   "cell_type": "code",
   "execution_count": 17,
   "metadata": {
    "collapsed": false,
    "run_control": {
     "frozen": false,
     "read_only": false
    }
   },
   "outputs": [
    {
     "name": "stdout",
     "output_type": "stream",
     "text": [
      "ans =\n",
      "\n",
      "    5    0    1\n",
      "   10    1    0\n",
      "   -5    0    0\n",
      "\n"
     ]
    }
   ],
   "source": [
    "inv(E)"
   ]
  },
  {
   "cell_type": "code",
   "execution_count": 18,
   "metadata": {
    "collapsed": false,
    "run_control": {
     "frozen": false,
     "read_only": false
    }
   },
   "outputs": [
    {
     "name": "stdout",
     "output_type": "stream",
     "text": [
      "ans =  2\n"
     ]
    }
   ],
   "source": [
    "rank(A)"
   ]
  },
  {
   "cell_type": "markdown",
   "metadata": {
    "collapsed": true,
    "run_control": {
     "frozen": false,
     "read_only": false
    }
   },
   "source": [
    "# A = c a b echelon factorization"
   ]
  },
  {
   "cell_type": "markdown",
   "metadata": {},
   "source": [
    " https://courses.edx.org/courses/course-v1:UTAustinX+UT.5.05x+1T2017/courseware/bd8bc294fb3e489a9ac4ab3caf6cc210/aae154ba4c54456cb007c1626383838a/"
   ]
  },
  {
   "cell_type": "code",
   "execution_count": 19,
   "metadata": {
    "collapsed": false,
    "run_control": {
     "frozen": false,
     "read_only": false
    }
   },
   "outputs": [
    {
     "name": "stdout",
     "output_type": "stream",
     "text": [
      "c =\n",
      "\n",
      "   1   0\n",
      "   0   1\n",
      "  -1   0\n",
      "\n",
      "a =\n",
      "\n",
      "    5    0\n",
      "   10    1\n",
      "\n",
      "b =\n",
      "\n",
      "   1.00000   0.00000   0.60000\n",
      "   0.00000   1.00000   1.00000\n",
      "\n"
     ]
    }
   ],
   "source": [
    "[c, a, b] = cab(A)"
   ]
  },
  {
   "cell_type": "markdown",
   "metadata": {
    "run_control": {
     "frozen": false,
     "read_only": false
    }
   },
   "source": [
    "echelon bases for the column space in c and the row space in b"
   ]
  },
  {
   "cell_type": "markdown",
   "metadata": {
    "run_control": {
     "frozen": false,
     "read_only": false
    }
   },
   "source": [
    "# [SVG](http://blogs.mathworks.com/cleve/2016/11/29/four-fundamental-subspaces-of-linear-algebra-corrected/)"
   ]
  },
  {
   "cell_type": "markdown",
   "metadata": {
    "run_control": {
     "frozen": false,
     "read_only": false
    }
   },
   "source": [
    "The natural bases for the four fundamental subspaces are provided by the SVD, the Singular Value Decomposition, of $A$ : $$A=U\\sum V^T$$"
   ]
  },
  {
   "cell_type": "markdown",
   "metadata": {
    "run_control": {
     "frozen": false,
     "read_only": false
    }
   },
   "source": [
    "The matrices $U$ and $V$ are orthogonal, and $$U^TU=I_m, V^TV=I_n$$"
   ]
  },
  {
   "cell_type": "markdown",
   "metadata": {
    "run_control": {
     "frozen": false,
     "read_only": false
    }
   },
   "source": [
    "* The matrix $A$ is rectangular, say with $m$ rows and $n$ columns; \n",
    "* $U$ is square, with the same number of rows as $A$;\n",
    "* $V$ is also square, with the same number of columns as $A$; \n",
    "* $Σ$ is the same size as $A$.\n",
    "\n",
    "Here is a picture of this equation when $A$ is tall and skinny, so $m>n$. The diagonal elements of $Σ$ are the singular values, shown as blue dots. All of the other elements of $Σ$ are zero."
   ]
  },
  {
   "cell_type": "markdown",
   "metadata": {
    "run_control": {
     "frozen": false,
     "read_only": false
    }
   },
   "source": [
    "![caption](images\\USVT.png)"
   ]
  },
  {
   "cell_type": "markdown",
   "metadata": {
    "run_control": {
     "frozen": false,
     "read_only": false
    }
   },
   "source": [
    "The signs and the ordering of the columns in $U$ and $V$ can always be taken so that the singular values are nonnegative and arranged in decreasing order."
   ]
  },
  {
   "cell_type": "markdown",
   "metadata": {
    "run_control": {
     "frozen": false,
     "read_only": false
    }
   },
   "source": [
    "For any diagonal matrix like $Σ$, it is clear that the rank, which is the number of independent rows or columns, is just the number of nonzero diagonal elements."
   ]
  },
  {
   "cell_type": "markdown",
   "metadata": {
    "run_control": {
     "frozen": false,
     "read_only": false
    }
   },
   "source": [
    "## Two Subspaces for Column and Null "
   ]
  },
  {
   "cell_type": "markdown",
   "metadata": {
    "run_control": {
     "frozen": false,
     "read_only": false
    }
   },
   "source": [
    "Multiply both sides of $A=U\\sum V^T$ on the right by $V$. Since $V^TV=I_n$, we find $$AV=U\\sum$$"
   ]
  },
  {
   "cell_type": "markdown",
   "metadata": {
    "run_control": {
     "frozen": false,
     "read_only": false
    }
   },
   "source": [
    "![caption](images\\AV.png)"
   ]
  },
  {
   "cell_type": "markdown",
   "metadata": {
    "run_control": {
     "frozen": false,
     "read_only": false
    }
   },
   "source": [
    "Write out this equation column by column.\n",
    "\n",
    "* $Av_j=σ_ju_j,  j=1,...,r$\n",
    "* $Av_j=0,  j=r+1,...,n$\n",
    "\n",
    "This says that $A$ maps the first $r$ columns of $V$ onto nonzero multiples of the first $r$ columns of $U$ and maps the remaining columns of $V$ onto zero.\n",
    "\n",
    "* $U(:,1:r)U(:,1:r)$ spans the column space\n",
    "* $V(:,r+1:n)V(:,r+1:n)$ spans the null space"
   ]
  },
  {
   "cell_type": "markdown",
   "metadata": {
    "run_control": {
     "frozen": false,
     "read_only": false
    }
   },
   "source": [
    "## Two Subspaces for Row and Left Null"
   ]
  },
  {
   "cell_type": "markdown",
   "metadata": {
    "run_control": {
     "frozen": false,
     "read_only": false
    }
   },
   "source": [
    "Multiply both sides of $A=U\\sum V^T$ on the right by $U$. Since $U^TU=I_m$, we find $$A^TU=V\\sum  ^T $$"
   ]
  },
  {
   "cell_type": "markdown",
   "metadata": {
    "run_control": {
     "frozen": false,
     "read_only": false
    }
   },
   "source": [
    "![caption](images\\ATU.png)"
   ]
  },
  {
   "cell_type": "markdown",
   "metadata": {
    "run_control": {
     "frozen": false,
     "read_only": false
    }
   },
   "source": [
    "Write this out column by column.\n",
    "\n",
    "* $A^Tu_j=σ_jv_j,  j=1,...,r$\n",
    "* $A^Tu_j=0,  j=r+1,...,m$\n",
    "\n",
    "This says that $A^T$ maps the first $r$ columns of $U$ onto nonzero multiples of the first $r$ columns of $V$ and maps the remaining columns of $U$ onto zero.\n",
    "\n",
    "* $V(:,1:r)V(:,1:r)$ spans the row space\n",
    "* $U(:,r+1:m)U(:,r+1:m)$ spans the left nullspace"
   ]
  },
  {
   "cell_type": "markdown",
   "metadata": {
    "run_control": {
     "frozen": false,
     "read_only": false
    }
   },
   "source": [
    "![caption](images\\wiki_svg_spaces.png)"
   ]
  },
  {
   "cell_type": "markdown",
   "metadata": {
    "run_control": {
     "frozen": false,
     "read_only": false
    }
   },
   "source": [
    "## examples"
   ]
  },
  {
   "cell_type": "markdown",
   "metadata": {
    "run_control": {
     "frozen": false,
     "read_only": false
    }
   },
   "source": [
    "Here is an example involving lines in two dimensions, so $m=n=2$. Start with these vectors."
   ]
  },
  {
   "cell_type": "code",
   "execution_count": 6,
   "metadata": {
    "collapsed": false,
    "run_control": {
     "frozen": false,
     "read_only": false
    }
   },
   "outputs": [
    {
     "name": "stdout",
     "output_type": "stream",
     "text": [
      "u =\n",
      "\n",
      "  -3\n",
      "   4\n",
      "\n",
      "v =\n",
      "\n",
      "   1\n",
      "   3\n",
      "\n"
     ]
    }
   ],
   "source": [
    "u = [-3 4]'\n",
    "v = [1 3]'"
   ]
  },
  {
   "cell_type": "markdown",
   "metadata": {
    "run_control": {
     "frozen": false,
     "read_only": false
    }
   },
   "source": [
    "The matrix $A$ is their outer product."
   ]
  },
  {
   "cell_type": "code",
   "execution_count": 7,
   "metadata": {
    "collapsed": false,
    "run_control": {
     "frozen": false,
     "read_only": false
    }
   },
   "outputs": [
    {
     "name": "stdout",
     "output_type": "stream",
     "text": [
      "A =\n",
      "\n",
      "   -3   -9\n",
      "    4   12\n",
      "\n"
     ]
    }
   ],
   "source": [
    "A = u*v'"
   ]
  },
  {
   "cell_type": "code",
   "execution_count": 8,
   "metadata": {
    "collapsed": false,
    "run_control": {
     "frozen": false,
     "read_only": false
    }
   },
   "outputs": [
    {
     "name": "stdout",
     "output_type": "stream",
     "text": [
      "U =\n",
      "\n",
      "  -0.60000   0.80000\n",
      "   0.80000   0.60000\n",
      "\n",
      "Sigma =\n",
      "\n",
      "Diagonal Matrix\n",
      "\n",
      "   15.81139          0\n",
      "          0    0.00000\n",
      "\n",
      "V =\n",
      "\n",
      "   0.31623  -0.94868\n",
      "   0.94868   0.31623\n",
      "\n"
     ]
    }
   ],
   "source": [
    " [U,Sigma,V] = svd(A)"
   ]
  },
  {
   "cell_type": "markdown",
   "metadata": {
    "run_control": {
     "frozen": false,
     "read_only": false
    }
   },
   "source": [
    "The first left and right singular vectors are our starting vectors, normalized to have unit length."
   ]
  },
  {
   "cell_type": "code",
   "execution_count": 9,
   "metadata": {
    "collapsed": false,
    "run_control": {
     "frozen": false,
     "read_only": false
    }
   },
   "outputs": [
    {
     "name": "stdout",
     "output_type": "stream",
     "text": [
      "ubar =\n",
      "\n",
      "  -0.60000\n",
      "   0.80000\n",
      "\n",
      "vbar =\n",
      "\n",
      "   0.31623\n",
      "   0.94868\n",
      "\n"
     ]
    }
   ],
   "source": [
    "ubar = u/norm(u)\n",
    "vbar = v/norm(v)"
   ]
  },
  {
   "cell_type": "markdown",
   "metadata": {
    "run_control": {
     "frozen": false,
     "read_only": false
    }
   },
   "source": [
    "The columns of $A$ are proportional to each other, and to $\\bar u$. So the column space is just the line generated by multiples of either column and $\\bar u$ is the normalized basis vector for the column space. The columns of $A^T$ are proportional to each other, and to $\\bar v$. So $\\bar v$ is the normalized basis vector for the row space."
   ]
  },
  {
   "cell_type": "markdown",
   "metadata": {
    "run_control": {
     "frozen": false,
     "read_only": false
    }
   },
   "source": [
    "The only nonzero singular value is the product of the normalizing factors."
   ]
  },
  {
   "cell_type": "code",
   "execution_count": 10,
   "metadata": {
    "collapsed": false,
    "run_control": {
     "frozen": false,
     "read_only": false
    }
   },
   "outputs": [
    {
     "name": "stdout",
     "output_type": "stream",
     "text": [
      "sigma =  15.811\n"
     ]
    }
   ],
   "source": [
    "sigma = norm(u)*norm(v)"
   ]
  },
  {
   "cell_type": "markdown",
   "metadata": {
    "run_control": {
     "frozen": false,
     "read_only": false
    }
   },
   "source": [
    "The second right and left singular vectors, that is the second columns of $V$ and $U$, provide bases for the null spaces of $A$ and $A^T$."
   ]
  },
  {
   "cell_type": "code",
   "execution_count": null,
   "metadata": {
    "collapsed": true,
    "run_control": {
     "frozen": false,
     "read_only": false
    }
   },
   "outputs": [],
   "source": []
  },
  {
   "cell_type": "code",
   "execution_count": null,
   "metadata": {
    "collapsed": true,
    "run_control": {
     "frozen": false,
     "read_only": false
    }
   },
   "outputs": [],
   "source": []
  },
  {
   "cell_type": "code",
   "execution_count": null,
   "metadata": {
    "collapsed": true,
    "run_control": {
     "frozen": false,
     "read_only": false
    }
   },
   "outputs": [],
   "source": []
  },
  {
   "cell_type": "code",
   "execution_count": null,
   "metadata": {
    "collapsed": true,
    "run_control": {
     "frozen": false,
     "read_only": false
    }
   },
   "outputs": [],
   "source": []
  }
 ],
 "metadata": {
  "hide_input": false,
  "kernelspec": {
   "display_name": "Octave",
   "language": "octave",
   "name": "octave"
  },
  "language_info": {
   "file_extension": ".m",
   "help_links": [
    {
     "text": "GNU Octave",
     "url": "https://www.gnu.org/software/octave/support.html"
    },
    {
     "text": "Octave Kernel",
     "url": "https://github.com/Calysto/octave_kernel"
    },
    {
     "text": "MetaKernel Magics",
     "url": "https://github.com/calysto/metakernel/blob/master/metakernel/magics/README.md"
    }
   ],
   "mimetype": "text/x-octave",
   "name": "octave",
   "version": "3.8.2"
  },
  "latex_envs": {
   "LaTeX_envs_menu_present": true,
   "bibliofile": "biblio.bib",
   "cite_by": "apalike",
   "current_citInitial": 1,
   "eqLabelWithNumbers": true,
   "eqNumInitial": 1,
   "labels_anchors": false,
   "latex_user_defs": false,
   "report_style_numbering": false,
   "user_envs_cfg": false
  },
  "toc": {
   "colors": {
    "hover_highlight": "#DAA520",
    "running_highlight": "#FF0000",
    "selected_highlight": "#FFD700"
   },
   "moveMenuLeft": true,
   "nav_menu": {
    "height": "136px",
    "width": "252px"
   },
   "navigate_menu": true,
   "number_sections": true,
   "sideBar": true,
   "threshold": 4,
   "toc_cell": true,
   "toc_position": {
    "height": "472px",
    "left": "0px",
    "right": "1003.36px",
    "top": "106px",
    "width": "212px"
   },
   "toc_section_display": "block",
   "toc_window_display": true
  }
 },
 "nbformat": 4,
 "nbformat_minor": 2
}
