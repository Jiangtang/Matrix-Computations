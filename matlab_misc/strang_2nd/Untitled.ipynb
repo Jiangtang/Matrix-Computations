{
 "cells": [
  {
   "cell_type": "code",
   "execution_count": 4,
   "metadata": {
    "collapsed": false
   },
   "outputs": [
    {
     "name": "stdout",
     "output_type": "stream",
     "text": [
      "error: help: 'BASIS' not found\n"
     ]
    }
   ],
   "source": [
    "help BASIS"
   ]
  },
  {
   "cell_type": "code",
   "execution_count": 2,
   "metadata": {
    "collapsed": false
   },
   "outputs": [
    {
     "name": "stdout",
     "output_type": "stream",
     "text": [
      "+ clc\n",
      "\n",
      "+ ## A basis consists of independent vectors whose combinations produce the whole\n",
      "+ ## subspace. Different combinations of basis vectors  produce different vectors!\n",
      "+ ## basis.m  knocks out dependent columns to leave a basis for the column space.\n",
      "+ u = [1, 3, 0]';\n",
      "+ v = [2, 1, 1]';\n",
      "+ w = rand (3, 1);\n",
      "+ A = [u, v, u, w]\n",
      "A =\n",
      "\n",
      "   1.00000   2.00000   1.00000   0.33644\n",
      "   3.00000   1.00000   3.00000   0.39992\n",
      "   0.00000   1.00000   0.00000   0.40503\n",
      "\n",
      "+ B = basis (A)\n",
      "rank =  3\n",
      "B =\n",
      "\n",
      "   1.00000   2.00000   0.33644\n",
      "   3.00000   1.00000   0.39992\n",
      "   0.00000   1.00000   0.40503\n",
      "\n",
      "+ ## press any key\n",
      "+ pause\n",
      "Paused, enter any value to continue3\n",
      "+ clc\n",
      "\n",
      "+ A2 = [u, u + v, u + 2 * v, u + 3 * v]\n",
      "A2 =\n",
      "\n",
      "   1   3   5   7\n",
      "   3   4   5   6\n",
      "   0   1   2   3\n",
      "\n",
      "+ B2 = basis (A2)\n",
      "rank =  2\n",
      "B2 =\n",
      "\n",
      "   1   3\n",
      "   3   4\n",
      "   0   1\n",
      "\n",
      "+ A3 = [A, A2(:, 1:3)]\n",
      "A3 =\n",
      "\n",
      "   1.00000   2.00000   1.00000   0.33644   1.00000   3.00000   5.00000\n",
      "   3.00000   1.00000   3.00000   0.39992   3.00000   4.00000   5.00000\n",
      "   0.00000   1.00000   0.00000   0.40503   0.00000   1.00000   2.00000\n",
      "\n",
      "+ B3 = basis (A3)\n",
      "rank =  3\n",
      "B3 =\n",
      "\n",
      "   1.00000   2.00000   0.33644\n",
      "   3.00000   1.00000   0.39992\n",
      "   0.00000   1.00000   0.40503\n",
      "\n",
      "+ ## press any key\n",
      "+ pause\n",
      "Paused, enter any value to continue\n",
      "+ clc\n",
      "\n",
      "+ ## Question 1: Given n  vectors, how would you decide if they are independent?\n",
      "+ ##  \n",
      "+ ## Question 2: How can you tell if a vector b is a combination of those vectors?\n",
      "+ ##  \n",
      "+ ## Question 3: Given TWO sets of vectors, how can you tell if they span the same\n",
      "+ ## subspace? Each vector must be a combination of the vectors in the OTHER SET.\n",
      "+ ##   \n",
      "+ ## Idea: Put the first vectors in the columns of A and put both sets in the\n",
      "+ ## columns of C. Look at basis(A) and basis(C). Does this give a complete answer?\n",
      "+ ##   \n",
      "+ ## Question 4: For a 3 by 4 matrix A what is the important fact about basis(A)\n",
      "+ ##   and basis(A')? \n",
      "+ ##  \n",
      "+ ## press any key to see bases for the column space and row space\n",
      "+ pause\n",
      "Paused, enter any value to continue\n",
      "+ A = [0, 1, 2, 3; 4, 5, 6, 7; 8, 9, 10, 11];\n",
      "+ colbasis = basis (A)\n",
      "rank =  2\n",
      "colbasis =\n",
      "\n",
      "   0   1\n",
      "   4   5\n",
      "   8   9\n",
      "\n",
      "+ rowbasis = basis (A')\n",
      "rank =  2\n",
      "rowbasis =\n",
      "\n",
      "   0   4\n",
      "   1   5\n",
      "   2   6\n",
      "   3   7\n",
      "\n",
      "+ ## press any key\n",
      "Paused, enter any value to continue\n",
      "+ pause\n",
      "+ clc\n",
      "\n",
      "+ ## What are the important facts connecting the bases for the four subspaces?\n",
      "+ nullbasis = null (A)\n",
      "nullbasis =\n",
      "\n",
      "   1   2\n",
      "  -2  -3\n",
      "   1   0\n",
      "   0   1\n",
      "\n",
      "+ leftnull = null (A')\n",
      "leftnull =\n",
      "\n",
      "   1\n",
      "  -2\n",
      "   1\n",
      "\n",
      "+ rowbasis' * nullbasis\n",
      "ans =\n",
      "\n",
      "   0   0\n",
      "   0   0\n",
      "\n",
      "+ colbasis' * leftnull\n",
      "ans =\n",
      "\n",
      "   0\n",
      "   0\n",
      "\n",
      "+ echo ('off')\n"
     ]
    }
   ],
   "source": [
    "xbasis"
   ]
  },
  {
   "cell_type": "code",
   "execution_count": 5,
   "metadata": {
    "collapsed": false
   },
   "outputs": [
    {
     "name": "stdout",
     "output_type": "stream",
     "text": [
      "basis is the user-defined function defined from: /home/jovyan/work/MIT_math/LA1806_MIT/mcode/strang_mathworks/basis.m\n",
      "\n",
      "function B = BASIS(A)\n",
      "%BASIS\tBasis for the column space.\n",
      "%\tB = BASIS(A) uses the pivot indices found by PLU(A)\n",
      "%\tto pick out a basis for the column space of A.\n",
      "%\n",
      "%\tSee also PLU, REF, SOLVE, NULL.\n",
      "\n",
      "[P,L,U,pivcol] = plu(A);\n",
      "rank = length(pivcol)\n",
      "B = A(:,pivcol);\n",
      "\n"
     ]
    }
   ],
   "source": [
    "\n",
    "type basis"
   ]
  },
  {
   "cell_type": "code",
   "execution_count": null,
   "metadata": {
    "collapsed": true
   },
   "outputs": [],
   "source": []
  }
 ],
 "metadata": {
  "kernelspec": {
   "display_name": "Octave",
   "language": "octave",
   "name": "octave"
  },
  "language_info": {
   "file_extension": ".m",
   "help_links": [
    {
     "text": "GNU Octave",
     "url": "https://www.gnu.org/software/octave/support.html"
    },
    {
     "text": "Octave Kernel",
     "url": "https://github.com/Calysto/octave_kernel"
    },
    {
     "text": "MetaKernel Magics",
     "url": "https://github.com/calysto/metakernel/blob/master/metakernel/magics/README.md"
    }
   ],
   "mimetype": "text/x-octave",
   "name": "octave",
   "version": "3.8.2"
  }
 },
 "nbformat": 4,
 "nbformat_minor": 2
}
