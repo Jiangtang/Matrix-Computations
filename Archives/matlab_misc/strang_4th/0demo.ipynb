{
 "cells": [
  {
   "cell_type": "markdown",
   "metadata": {
    "toc": "true"
   },
   "source": [
    "# Table of Contents\n",
    " <p><div class=\"lev1 toc-item\"><a href=\"#Ch1,-P16\" data-toc-modified-id=\"Ch1,-P16-1\"><span class=\"toc-item-num\">1&nbsp;&nbsp;</span>Ch1, P16</a></div><div class=\"lev1 toc-item\"><a href=\"#Ch2,-P31\" data-toc-modified-id=\"Ch2,-P31-2\"><span class=\"toc-item-num\">2&nbsp;&nbsp;</span>Ch2, P31</a></div><div class=\"lev1 toc-item\"><a href=\"#Ch2,-P38\" data-toc-modified-id=\"Ch2,-P38-3\"><span class=\"toc-item-num\">3&nbsp;&nbsp;</span>Ch2, P38</a></div><div class=\"lev1 toc-item\"><a href=\"#Ch2,-P61,-P97\" data-toc-modified-id=\"Ch2,-P61,-P97-4\"><span class=\"toc-item-num\">4&nbsp;&nbsp;</span>Ch2, P61, P97</a></div><div class=\"lev4 toc-item\"><a href=\"#https://www.mathworks.com/help/matlab/ref/lu.html\" data-toc-modified-id=\"https://www.mathworks.com/help/matlab/ref/lu.html-4001\"><span class=\"toc-item-num\">4.0.0.1&nbsp;&nbsp;</span><a href=\"https://www.mathworks.com/help/matlab/ref/lu.html\" target=\"_blank\">https://www.mathworks.com/help/matlab/ref/lu.html</a></a></div>"
   ]
  },
  {
   "cell_type": "markdown",
   "metadata": {},
   "source": [
    "# Ch1, P16"
   ]
  },
  {
   "cell_type": "code",
   "execution_count": 2,
   "metadata": {
    "collapsed": false
   },
   "outputs": [
    {
     "name": "stdout",
     "output_type": "stream",
     "text": [
      "d =  9\n"
     ]
    }
   ],
   "source": [
    "v = [2 3 4]';\n",
    "w = [1 1 1]';\n",
    "u = 2 * v + 3 * w;\n",
    "d = v' * w"
   ]
  },
  {
   "cell_type": "code",
   "execution_count": 3,
   "metadata": {
    "collapsed": false
   },
   "outputs": [
    {
     "name": "stdout",
     "output_type": "stream",
     "text": [
      "len_v1 =  5.3852\n",
      "len_v2 =  5.3852\n"
     ]
    }
   ],
   "source": [
    "%%length\n",
    "len_v1 = norm(v)\n",
    "len_v2 = sqrt(v' * v)"
   ]
  },
  {
   "cell_type": "code",
   "execution_count": 10,
   "metadata": {
    "collapsed": false
   },
   "outputs": [
    {
     "name": "stdout",
     "output_type": "stream",
     "text": [
      "cosine =  0.96490\n",
      "angle =  0.26573\n"
     ]
    }
   ],
   "source": [
    "%%cosine\n",
    "cosine = v' * w / (norm(v) * norm(w))\n",
    "angle = acos(cosine)"
   ]
  },
  {
   "cell_type": "markdown",
   "metadata": {},
   "source": [
    "# Ch2, P31"
   ]
  },
  {
   "cell_type": "code",
   "execution_count": 16,
   "metadata": {
    "collapsed": true
   },
   "outputs": [],
   "source": [
    "A = [1 -2;\n",
    "     3 2  \n",
    "    ];\n",
    "    \n",
    "b = [1 11]';"
   ]
  },
  {
   "cell_type": "code",
   "execution_count": 20,
   "metadata": {
    "collapsed": false
   },
   "outputs": [
    {
     "name": "stdout",
     "output_type": "stream",
     "text": [
      "x =\n",
      "\n",
      "   3\n",
      "   1\n",
      "\n"
     ]
    }
   ],
   "source": [
    "x = A\\b"
   ]
  },
  {
   "cell_type": "code",
   "execution_count": 19,
   "metadata": {
    "collapsed": false
   },
   "outputs": [
    {
     "name": "stdout",
     "output_type": "stream",
     "text": [
      "xhat =\n",
      "\n",
      "   3\n",
      "   1\n",
      "\n",
      "p =\n",
      "\n",
      "    1\n",
      "   11\n",
      "\n",
      "e =\n",
      "\n",
      "   0\n",
      "   0\n",
      "\n"
     ]
    }
   ],
   "source": [
    "%% Least squares solution to Ax=b\n",
    "[xhat, p, e] = lsq(A, b)"
   ]
  },
  {
   "cell_type": "code",
   "execution_count": 21,
   "metadata": {
    "collapsed": false
   },
   "outputs": [
    {
     "name": "stdout",
     "output_type": "stream",
     "text": [
      "x =\n",
      "\n",
      "   3\n",
      "   1\n",
      "\n"
     ]
    }
   ],
   "source": [
    "%% Particular solution of Ax=b\n",
    "x = partic(A,b)"
   ]
  },
  {
   "cell_type": "code",
   "execution_count": 22,
   "metadata": {
    "collapsed": false
   },
   "outputs": [
    {
     "name": "stdout",
     "output_type": "stream",
     "text": [
      "x =\n",
      "\n",
      "   3\n",
      "   1\n",
      "\n"
     ]
    }
   ],
   "source": [
    "%% solves the square system Ax = b\n",
    "x = cramer(A, b)"
   ]
  },
  {
   "cell_type": "code",
   "execution_count": 24,
   "metadata": {
    "collapsed": false
   },
   "outputs": [
    {
     "name": "stdout",
     "output_type": "stream",
     "text": [
      "x =\n",
      "\n",
      "   3   1\n",
      "\n"
     ]
    }
   ],
   "source": [
    "%% use the LU factorization computed by slu(A)\n",
    "%% to solve the linear equation A*x = b\n",
    "x = slv(A, b)"
   ]
  },
  {
   "cell_type": "code",
   "execution_count": 26,
   "metadata": {
    "collapsed": false
   },
   "outputs": [
    {
     "name": "stdout",
     "output_type": "stream",
     "text": [
      "Pivots in rows:\n",
      "   1   2\n",
      "x =\n",
      "\n",
      "   3\n",
      "   1\n",
      "\n"
     ]
    }
   ],
   "source": [
    "%%  uses the PA = LU factorization computed by splu\n",
    "%%  to solve Ax = b.\n",
    "x = splv(A, b)"
   ]
  },
  {
   "cell_type": "markdown",
   "metadata": {},
   "source": [
    "# Ch2, P38"
   ]
  },
  {
   "cell_type": "code",
   "execution_count": 5,
   "metadata": {
    "collapsed": true
   },
   "outputs": [],
   "source": [
    "A = [1 2 3;\n",
    "     2 5 2;\n",
    "     6 -3 1     \n",
    "    ];\n",
    "    \n",
    "x = [0 0 2]';"
   ]
  },
  {
   "cell_type": "code",
   "execution_count": 6,
   "metadata": {
    "collapsed": false
   },
   "outputs": [
    {
     "name": "stdout",
     "output_type": "stream",
     "text": [
      "b1 =\n",
      "\n",
      "   6\n",
      "   4\n",
      "   2\n",
      "\n"
     ]
    }
   ],
   "source": [
    "b1 = A * x"
   ]
  },
  {
   "cell_type": "code",
   "execution_count": 7,
   "metadata": {
    "collapsed": false
   },
   "outputs": [
    {
     "name": "stdout",
     "output_type": "stream",
     "text": [
      "b2 =\n",
      "\n",
      "   6\n",
      "   4\n",
      "   2\n",
      "\n"
     ]
    }
   ],
   "source": [
    "%% Row at a time\n",
    "b2 = [A(1,:) * x;\n",
    "      A(2,:) * x;\n",
    "      A(3,:) * x;\n",
    "     ]"
   ]
  },
  {
   "cell_type": "code",
   "execution_count": 8,
   "metadata": {
    "collapsed": false
   },
   "outputs": [
    {
     "name": "stdout",
     "output_type": "stream",
     "text": [
      "b3 =\n",
      "\n",
      "   6\n",
      "   4\n",
      "   2\n",
      "\n"
     ]
    }
   ],
   "source": [
    "%% Column at a time    \n",
    "b3 = A(:,1) * x(1) +  A(:,2) * x(2) + A(:,3) * x(3) "
   ]
  },
  {
   "cell_type": "code",
   "execution_count": 9,
   "metadata": {
    "collapsed": false
   },
   "outputs": [
    {
     "name": "stdout",
     "output_type": "stream",
     "text": [
      "b4 =\n",
      "\n",
      "   0\n",
      "   0\n",
      "   0\n",
      "\n",
      "b4 =\n",
      "\n",
      "   0\n",
      "   0\n",
      "   0\n",
      "\n",
      "b4 =\n",
      "\n",
      "   0\n",
      "   0\n",
      "   0\n",
      "\n",
      "b4 =\n",
      "\n",
      "   0\n",
      "   0\n",
      "   0\n",
      "\n",
      "b4 =\n",
      "\n",
      "   0\n",
      "   0\n",
      "   0\n",
      "\n",
      "b4 =\n",
      "\n",
      "   0\n",
      "   0\n",
      "   0\n",
      "\n",
      "b4 =\n",
      "\n",
      "   6\n",
      "   0\n",
      "   0\n",
      "\n",
      "b4 =\n",
      "\n",
      "   6\n",
      "   4\n",
      "   0\n",
      "\n",
      "b4 =\n",
      "\n",
      "   6\n",
      "   4\n",
      "   2\n",
      "\n"
     ]
    }
   ],
   "source": [
    "%% operates on single entries at once, FORTRAN style\n",
    "b4 =zeros(3,1);\n",
    "\n",
    "for j = 1 : 3\n",
    "  for i = 1 : 3\n",
    "      b4(i) = b4(i) + A(i,j) * x(j)\n",
    "  end\n",
    "end"
   ]
  },
  {
   "cell_type": "markdown",
   "metadata": {},
   "source": [
    "# Ch2, P61, P97"
   ]
  },
  {
   "cell_type": "code",
   "execution_count": 28,
   "metadata": {
    "collapsed": true
   },
   "outputs": [],
   "source": [
    "A = [1 2 1;\n",
    "     3 8 1;\n",
    "     0 4 1     \n",
    "    ];\n",
    "    \n",
    "b = [2 12 2]';"
   ]
  },
  {
   "cell_type": "markdown",
   "metadata": {},
   "source": [
    "#### https://www.mathworks.com/help/matlab/ref/lu.html"
   ]
  },
  {
   "cell_type": "code",
   "execution_count": 34,
   "metadata": {
    "collapsed": false
   },
   "outputs": [
    {
     "name": "stdout",
     "output_type": "stream",
     "text": [
      "Y =\n",
      "\n",
      "   3.00000   8.00000   1.00000\n",
      "   0.00000   4.00000   1.00000\n",
      "   0.33333  -0.16667   0.83333\n",
      "\n"
     ]
    }
   ],
   "source": [
    "Y = lu(A)"
   ]
  },
  {
   "cell_type": "code",
   "execution_count": 35,
   "metadata": {
    "collapsed": false
   },
   "outputs": [
    {
     "name": "stdout",
     "output_type": "stream",
     "text": [
      "L =\n",
      "\n",
      "   0.33333  -0.16667   1.00000\n",
      "   1.00000   0.00000   0.00000\n",
      "   0.00000   1.00000   0.00000\n",
      "\n",
      "U =\n",
      "\n",
      "   3.00000   8.00000   1.00000\n",
      "   0.00000   4.00000   1.00000\n",
      "   0.00000   0.00000   0.83333\n",
      "\n"
     ]
    }
   ],
   "source": [
    "[L,U] = lu(A)"
   ]
  },
  {
   "cell_type": "code",
   "execution_count": 37,
   "metadata": {
    "collapsed": false
   },
   "outputs": [
    {
     "name": "stdout",
     "output_type": "stream",
     "text": [
      "L =\n",
      "\n",
      "   1.00000   0.00000   0.00000\n",
      "   0.00000   1.00000   0.00000\n",
      "   0.33333  -0.16667   1.00000\n",
      "\n",
      "U =\n",
      "\n",
      "   3.00000   8.00000   1.00000\n",
      "   0.00000   4.00000   1.00000\n",
      "   0.00000   0.00000   0.83333\n",
      "\n",
      "P =\n",
      "\n",
      "Permutation Matrix\n",
      "\n",
      "   0   1   0\n",
      "   0   0   1\n",
      "   1   0   0\n",
      "\n"
     ]
    }
   ],
   "source": [
    "[L,U,P] = lu(A)"
   ]
  },
  {
   "cell_type": "code",
   "execution_count": 38,
   "metadata": {
    "collapsed": false
   },
   "outputs": [
    {
     "name": "stdout",
     "output_type": "stream",
     "text": [
      "error: Invalid call to lu.  Correct usage is:\n",
      "\n",
      " -- Built-in Function: [L, U] = lu (A)\n",
      " -- Built-in Function: [L, U, P] = lu (A)\n",
      " -- Built-in Function: [L, U, P, Q] = lu (S)\n",
      " -- Built-in Function: [L, U, P, Q, R] = lu (S)\n",
      " -- Built-in Function: [...] = lu (S, THRES)\n",
      " -- Built-in Function: Y = lu (...)\n",
      " -- Built-in Function: [...] = lu (..., \"vector\")\n",
      "\n",
      "\n",
      "Additional help for built-in functions and operators is\n",
      "available in the online version of the manual.  Use the command\n",
      "'doc <topic>' to search the manual index.\n",
      "\n",
      "Help and information about Octave is also available on the WWW\n",
      "at http://www.octave.org and via the help@octave.org\n",
      "mailing list.\n"
     ]
    }
   ],
   "source": [
    "[L,U,P,Q] = lu(A)"
   ]
  },
  {
   "cell_type": "code",
   "execution_count": 39,
   "metadata": {
    "collapsed": false
   },
   "outputs": [
    {
     "name": "stdout",
     "output_type": "stream",
     "text": [
      "error: Invalid call to lu.  Correct usage is:\n",
      "\n",
      " -- Built-in Function: [L, U] = lu (A)\n",
      " -- Built-in Function: [L, U, P] = lu (A)\n",
      " -- Built-in Function: [L, U, P, Q] = lu (S)\n",
      " -- Built-in Function: [L, U, P, Q, R] = lu (S)\n",
      " -- Built-in Function: [...] = lu (S, THRES)\n",
      " -- Built-in Function: Y = lu (...)\n",
      " -- Built-in Function: [...] = lu (..., \"vector\")\n",
      "\n",
      "\n",
      "Additional help for built-in functions and operators is\n",
      "available in the online version of the manual.  Use the command\n",
      "'doc <topic>' to search the manual index.\n",
      "\n",
      "Help and information about Octave is also available on the WWW\n",
      "at http://www.octave.org and via the help@octave.org\n",
      "mailing list.\n"
     ]
    }
   ],
   "source": [
    "[L,U,P,Q,R] = lu(A)"
   ]
  },
  {
   "cell_type": "code",
   "execution_count": 36,
   "metadata": {
    "collapsed": false
   },
   "outputs": [
    {
     "name": "stdout",
     "output_type": "stream",
     "text": [
      "L =\n",
      "\n",
      "   1   0   0\n",
      "   3   1   0\n",
      "   0   2   1\n",
      "\n",
      "U =\n",
      "\n",
      "   1   2   1\n",
      "   0   2  -2\n",
      "   0   0   5\n",
      "\n"
     ]
    }
   ],
   "source": [
    "%% LU factorization of a square matrix using *no row exchanges*\n",
    "[L, U] = slu(A)"
   ]
  },
  {
   "cell_type": "code",
   "execution_count": 33,
   "metadata": {
    "collapsed": false
   },
   "outputs": [
    {
     "name": "stdout",
     "output_type": "stream",
     "text": [
      "P =\n",
      "\n",
      "Diagonal Matrix\n",
      "\n",
      "   1   0   0\n",
      "   0   1   0\n",
      "   0   0   1\n",
      "\n",
      "L =\n",
      "\n",
      "   1   0   0\n",
      "   3   1   0\n",
      "   0   2   1\n",
      "\n",
      "U =\n",
      "\n",
      "   1   2   1\n",
      "   0   2  -2\n",
      "   0   0   5\n",
      "\n",
      "sign =  1\n"
     ]
    }
   ],
   "source": [
    "%% Square PA=LU factorization *with row exchanges*\n",
    "[P, L, U, sign] = splu(A)"
   ]
  },
  {
   "cell_type": "code",
   "execution_count": null,
   "metadata": {
    "collapsed": true
   },
   "outputs": [],
   "source": []
  },
  {
   "cell_type": "code",
   "execution_count": null,
   "metadata": {
    "collapsed": true
   },
   "outputs": [],
   "source": []
  },
  {
   "cell_type": "code",
   "execution_count": 4,
   "metadata": {
    "collapsed": false
   },
   "outputs": [
    {
     "name": "stdout",
     "output_type": "stream",
     "text": [
      "T =\n",
      "\n",
      "   2   3   0   0\n",
      "   1   2   3   0\n",
      "   0   1   2   3\n",
      "   0   0   1   2\n",
      "\n"
     ]
    }
   ],
   "source": [
    "a = 1;\n",
    "b = 2;\n",
    "c = 3;\n",
    "n = 4;\n",
    "T = tridiag(a, b, c, n)"
   ]
  },
  {
   "cell_type": "code",
   "execution_count": 7,
   "metadata": {
    "collapsed": false
   },
   "outputs": [
    {
     "name": "stdout",
     "output_type": "stream",
     "text": [
      "'tridiag' is a function from the file /home/jovyan/work/MIT_math/LA1806_MIT/mcode/Mfiles/tridiag.m\n",
      "\n",
      " tridiag  Tridiagonal matrix.\n",
      " T = tridiag(a, b, c, n) returns an n by n matrix that has \n",
      " a, b, c as the subdiagonal, main diagonal, and superdiagonal \n",
      " entries in the matrix.\n",
      "\n",
      "Additional help for built-in functions and operators is\n",
      "available in the online version of the manual.  Use the command\n",
      "'doc <topic>' to search the manual index.\n",
      "\n",
      "Help and information about Octave is also available on the WWW\n",
      "at http://www.octave.org and via the help@octave.org\n",
      "mailing list.\n"
     ]
    }
   ],
   "source": [
    "help tridiag"
   ]
  },
  {
   "cell_type": "code",
   "execution_count": 10,
   "metadata": {
    "collapsed": false
   },
   "outputs": [
    {
     "name": "stdout",
     "output_type": "stream",
     "text": [
      "tridiag is the user-defined function defined from: /home/jovyan/work/MIT_math/LA1806_MIT/mcode/Mfiles/tridiag.m\n",
      "\n",
      "function T = tridiag(a, b, c, n)\n",
      "\n",
      "% tridiag  Tridiagonal matrix.\n",
      "% T = tridiag(a, b, c, n) returns an n by n matrix that has \n",
      "% a, b, c as the subdiagonal, main diagonal, and superdiagonal \n",
      "% entries in the matrix.\n",
      "\n",
      "T = b*diag(ones(n,1)) + c*diag(ones(n-1,1),1) + a*diag(ones(n-1,1),-1);\n",
      "\n"
     ]
    }
   ],
   "source": [
    "type  tridiag"
   ]
  }
 ],
 "metadata": {
  "kernelspec": {
   "display_name": "Octave",
   "language": "octave",
   "name": "octave"
  },
  "language_info": {
   "file_extension": ".m",
   "help_links": [
    {
     "text": "GNU Octave",
     "url": "https://www.gnu.org/software/octave/support.html"
    },
    {
     "text": "Octave Kernel",
     "url": "https://github.com/Calysto/octave_kernel"
    },
    {
     "text": "MetaKernel Magics",
     "url": "https://github.com/calysto/metakernel/blob/master/metakernel/magics/README.md"
    }
   ],
   "mimetype": "text/x-octave",
   "name": "octave",
   "version": "3.8.2"
  },
  "toc": {
   "colors": {
    "hover_highlight": "#DAA520",
    "running_highlight": "#FF0000",
    "selected_highlight": "#FFD700"
   },
   "moveMenuLeft": true,
   "nav_menu": {
    "height": "117px",
    "width": "252px"
   },
   "navigate_menu": true,
   "number_sections": false,
   "sideBar": true,
   "threshold": 4,
   "toc_cell": true,
   "toc_section_display": "block",
   "toc_window_display": false
  }
 },
 "nbformat": 4,
 "nbformat_minor": 2
}
