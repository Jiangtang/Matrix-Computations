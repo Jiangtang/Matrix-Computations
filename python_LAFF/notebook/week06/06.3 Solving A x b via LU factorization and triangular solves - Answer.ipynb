{
 "metadata": {
  "name": ""
 },
 "nbformat": 3,
 "nbformat_minor": 0,
 "worksheets": [
  {
   "cells": [
    {
     "cell_type": "heading",
     "level": 1,
     "metadata": {},
     "source": [
      "Solving $ A x = b $ via LU factorization and triangular solves"
     ]
    },
    {
     "cell_type": "markdown",
     "metadata": {},
     "source": [
      "In this notebook, you will implement an LU factorization, solve a system with a unit lower triangular matrix, and solve a system with an upper triangular matrix.  This notebook culminates in a routine that combines these three steps into a routine that solves $ A x = b $.\n",
      "\n",
      "<font color=red> Be sure to make a copy!!!! </font>\n",
      "\n",
      "<h2>Preliminaries</h2>\n",
      "\n",
      "Here is a list of laff routines that you might want to use in this notebook:\n",
      "<ul>\n",
      "<li> <code>laff.dots( x, y, alpha )</code> $\\alpha := x^T y + \\alpha$\n",
      "<li> <code>laff.invscal( alpha, x )</code> $x := x / \\alpha$ (See note below)\n",
      "<li> <code>laff.axpy( alpha, x, y )</code> $y := \\alpha x + y$\n",
      "<li> <code>laff.ger( alpha, x, y, A )</code> $A := \\alpha x y^T + A$\n",
      "</ul>\n",
      "\n",
      "<code>laff.invscal( alpha, x)</code> was added after the course started. If you're having problems with git and are manually downloading the notebooks, check the wiki page for notebooks for help on getting updated laff routines.\n",
      "\n",
      "<h2> First, let's create a matrix $ A $ and right-hand side $ b $</h2>"
     ]
    },
    {
     "cell_type": "code",
     "collapsed": false,
     "input": [
      "import numpy as np\n",
      "import laff\n",
      "import flame\n",
      "\n",
      "# Applying the LU Factorization to a matrix is the process of\n",
      "# computing a unit lower triangular matrix, L, and upper \n",
      "# triangular matrix, U, such that A = L U.  To avoid nasty fractions\n",
      "# in these caclulations, we create our matrix A from two matrices, L and U, \n",
      "# whose elements we know to be integer valued.\n",
      "\n",
      "L = np.matrix( ' 1, 0, 0. 0;\\\n",
      "                -2, 1, 0, 0;\\\n",
      "                 1,-3, 1, 0;\\\n",
      "                 2, 3,-1, 1' )\n",
      "\n",
      "U = np.matrix( ' 2,-1, 3,-2;\\\n",
      "                 0,-2, 1,-1;\\\n",
      "                 0, 0, 1, 2;\\\n",
      "                 0, 0, 0, 3' )\n",
      "\n",
      "A = L * U\n",
      "\n",
      "print( 'A = ' )\n",
      "print( A )\n",
      "\n",
      "# create a solution vector x\n",
      "\n",
      "x = np.matrix( '-1;\\\n",
      "                 2;\\\n",
      "                 1;\\\n",
      "                -2' )\n",
      "\n",
      "# store the original value of x\n",
      "\n",
      "xold = np.matrix( np.copy( x ) )\n",
      "\n",
      "# create a solution vector b so that A x = b\n",
      "\n",
      "b = A * x\n",
      "print( 'b = ' )\n",
      "print( b )\n",
      "\n",
      "# Much later, we are also going to solve A x = y.  Here we create that y:\n",
      "x2 = np.matrix( '1;\\\n",
      "                 2;\\\n",
      "                 -2;\\\n",
      "                 1' )\n",
      "y = A * x2\n",
      "print( 'y = ' )\n",
      "print( y )"
     ],
     "language": "python",
     "metadata": {},
     "outputs": []
    },
    {
     "cell_type": "markdown",
     "metadata": {},
     "source": [
      "<h2> Implement the LU factorization routine from 6.3.1 </h2>\n",
      "\n",
      "Here is the algorithm:\n",
      "\n",
      "<img src=\"https://studio.edx.org/c4x/UTAustinX/UT.5.01x/asset/6_3_1_1_LU.png\" alt=\"LU factorization algorithm\" width=50%>\n",
      "    \n",
      "<font color=red> Important: if you make a mistake, rerun ALL cells above the cell in which you were working before you rerun the one in which you are working. </font>"
     ]
    },
    {
     "cell_type": "markdown",
     "metadata": {},
     "source": [
      "Create the routine\n",
      "<code> LU_unb_var5( A ) </code>\n",
      "with the <a href=\"https://studio.edx.org/c4x/UTAustinX/UT.5.01x/asset/index.html\">Spark webpage</a> for the algorithm given above."
     ]
    },
    {
     "cell_type": "code",
     "collapsed": false,
     "input": [
      "import flame\n",
      "import laff\n",
      "\n",
      "def LU_unb_var5(A):\n",
      "\n",
      "    ATL, ATR, \\\n",
      "    ABL, ABR  = flame.part_2x2(A, \\\n",
      "                               0, 0, 'TL')\n",
      "\n",
      "    while ATL.shape[0] < A.shape[0]:\n",
      "\n",
      "        A00,  a01,     A02,  \\\n",
      "        a10t, alpha11, a12t, \\\n",
      "        A20,  a21,     A22   = flame.repart_2x2_to_3x3(ATL, ATR, \\\n",
      "                                                       ABL, ABR, \\\n",
      "                                                       1, 1, 'BR')\n",
      "\n",
      "        #------------------------------------------------------------#\n",
      "\n",
      "        laff.invscal( alpha11, a21 )        #  a21 := a21 / alpha11\n",
      "        laff.ger( -1.0, a21, a12t, A22 )    #  A22 := A22 - a21 * a12t\n",
      "\n",
      "        #------------------------------------------------------------#\n",
      "\n",
      "        ATL, ATR, \\\n",
      "        ABL, ABR  = flame.cont_with_3x3_to_2x2(A00,  a01,     A02,  \\\n",
      "                                               a10t, alpha11, a12t, \\\n",
      "                                               A20,  a21,     A22,  \\\n",
      "                                               'TL')\n",
      "\n",
      "    flame.merge_2x2(ATL, ATR, \\\n",
      "                    ABL, ABR, A)\n",
      "\n"
     ],
     "language": "python",
     "metadata": {},
     "outputs": []
    },
    {
     "cell_type": "markdown",
     "metadata": {},
     "source": [
      "<h3> Test the routine </h3>\n",
      "\n",
      "<font color=red> Important: if you make a mistake, rerun ALL cells above the cell in which you were working before you rerun the one in which you are working. </font>"
     ]
    },
    {
     "cell_type": "code",
     "collapsed": false,
     "input": [
      "# recreate matrix A\n",
      "A = L * U\n",
      "\n",
      "# recreate the right-hand side\n",
      "b = A * xold\n",
      "\n",
      "# apply Gaussian elimination to matrix A\n",
      "LU_unb_var5( A )\n"
     ],
     "language": "python",
     "metadata": {},
     "outputs": []
    },
    {
     "cell_type": "markdown",
     "metadata": {},
     "source": [
      "Compare the overwritten matrix, $ A $, to the original matrices, $ L $ and $ U $.  The upper triangular part of $ A $ should equal $ U $ and the strictly lower triangular part of $ A $ should equal the strictly lower triangular part of $ L $.  \n",
      "\n",
      "<font color=red> Important: if you make a mistake, rerun ALL cells above the cell in which you were working before you rerun the one in which you are working. </font>\n"
     ]
    },
    {
     "cell_type": "code",
     "collapsed": false,
     "input": [
      "print( 'A after factorization' )\n",
      "print( A )\n",
      "print( 'Original L' )\n",
      "print( L )\n",
      "print( 'Original U' )\n",
      "print( U )"
     ],
     "language": "python",
     "metadata": {},
     "outputs": []
    },
    {
     "cell_type": "markdown",
     "metadata": {},
     "source": [
      "<h2> Implement the routine Ltrsv_unb_var1 from 6.3.2 </h2>\n",
      "\n",
      "(if you have not yet visited Unit 6.3.2, do so now!)\n",
      "\n",
      "Here is the algorithm:\n",
      "\n",
      "<img src=\"https://studio.edx.org/c4x/UTAustinX/UT.5.01x/asset/6_3_2_Ltrsv.png\" alt=\"Unit lower triangular solve algorithm\" width=75%>\n",
      "    \n",
      "<font color=red> Important: if you make a mistake, rerun ALL cells above the cell in which you were working before you rerun the one in which you are working. </font>"
     ]
    },
    {
     "cell_type": "markdown",
     "metadata": {},
     "source": [
      "Create the routine\n",
      "<code> Ltrsv_unb_var1( L, b )</code>\n",
      "with the <a href=\"https://studio.edx.org/c4x/UTAustinX/UT.5.01x/asset/index.html\">Spark webpage</a> for the algorithm given above."
     ]
    },
    {
     "cell_type": "code",
     "collapsed": false,
     "input": [
      "import flame\n",
      "\n",
      "def Ltrsv_unb_var1(L, b):\n",
      "\n",
      "    LTL, LTR, \\\n",
      "    LBL, LBR  = flame.part_2x2(L, \\\n",
      "                               0, 0, 'TL')\n",
      "\n",
      "    bT, \\\n",
      "    bB  = flame.part_2x1(b, \\\n",
      "                         0, 'TOP')\n",
      "\n",
      "    while LTL.shape[0] < L.shape[0]:\n",
      "\n",
      "        L00,  l01,     L02,  \\\n",
      "        l10t, lambda11, l12t, \\\n",
      "        L20,  l21,     L22   = flame.repart_2x2_to_3x3(LTL, LTR, \\\n",
      "                                                       LBL, LBR, \\\n",
      "                                                       1, 1, 'BR')\n",
      "\n",
      "        b0,    \\\n",
      "        beta1, \\\n",
      "        b2     = flame.repart_2x1_to_3x1(bT, \\\n",
      "                                         bB, \\\n",
      "                                         1, 'BOTTOM')\n",
      "\n",
      "        #------------------------------------------------------------#\n",
      "\n",
      "        laff.axpy( -beta1, l21, b2 ) # b2 := b2 - beta1*l21\n",
      "\n",
      "        #------------------------------------------------------------#\n",
      "\n",
      "        LTL, LTR, \\\n",
      "        LBL, LBR  = flame.cont_with_3x3_to_2x2(L00,  l01,      L02,  \\\n",
      "                                               l10t, lambda11, l12t, \\\n",
      "                                               L20,  l21,      L22,  \\\n",
      "                                               'TL')\n",
      "\n",
      "        bT, \\\n",
      "        bB  = flame.cont_with_3x1_to_2x1(b0,    \\\n",
      "                                         beta1, \\\n",
      "                                         b2,    \\\n",
      "                                         'TOP')\n",
      "\n",
      "    flame.merge_2x1(bT, \\\n",
      "                    bB, b)\n"
     ],
     "language": "python",
     "metadata": {},
     "outputs": []
    },
    {
     "cell_type": "markdown",
     "metadata": {},
     "source": [
      "<h3> Test Ltrsv_unb_var1 </h3>\n",
      "\n",
      "Take the output from <code>LU_unb_var5</code>, and use it to solve $ L z = b $, where $ L $ is unit lower triangular with its strictly lower triangular part stored in the strictly lower triangular part of $ A $.\n",
      "\n",
      "<font color=red> Important: if you make a mistake, rerun ALL cells above the cell in which you were working before you rerun the one in which you are working. </font>"
     ]
    },
    {
     "cell_type": "code",
     "collapsed": false,
     "input": [
      "print( A )\n",
      "print( b )\n",
      "Ltrsv_unb_var1( A, b )\n",
      "\n",
      "print( 'updated b' )\n",
      "print( b )"
     ],
     "language": "python",
     "metadata": {},
     "outputs": []
    },
    {
     "cell_type": "markdown",
     "metadata": {},
     "source": [
      "To be able to perform the back substitution before we implement the upper triangular solve routine described in 6.3.3, we do it the hard way here.  This allows us to see if the LU factorization followed by the solve with the unit lower triangular system gives the correct intermediate result.\n",
      "\n",
      "<font color=red> Important: if you make a mistake, rerun ALL cells above the cell in which you were working before you rerun the one in which you are working. </font>"
     ]
    },
    {
     "cell_type": "code",
     "collapsed": false,
     "input": [
      "x[ 3 ] = b[ 3 ] / A[ 3,3 ]\n",
      "x[ 2 ] = ( b[ 2 ] - A[ 2,3 ] * x[ 3 ] ) / A[ 2,2 ]\n",
      "x[ 1 ] = ( b[ 1 ] - A[ 1,2 ] * x[ 2 ] - A[ 1,3 ] * x[ 3 ] ) / A[ 1,1 ]\n",
      "x[ 0 ] = ( b[ 0 ] - A[ 0,1 ] * x[ 1 ] - A[ 0,2 ] * x[ 2 ]- A[ 0,3 ] * x[ 3 ] ) / A[ 0,0 ]"
     ],
     "language": "python",
     "metadata": {},
     "outputs": []
    },
    {
     "cell_type": "code",
     "collapsed": false,
     "input": [
      "print( 'x = ' )\n",
      "print( x )\n",
      "\n",
      "print( 'x - xold' )\n",
      "print( x - xold )"
     ],
     "language": "python",
     "metadata": {},
     "outputs": []
    },
    {
     "cell_type": "markdown",
     "metadata": {},
     "source": [
      "<code> x - xold </code> should yield a zero vector"
     ]
    },
    {
     "cell_type": "markdown",
     "metadata": {},
     "source": [
      "<h2> Implement the routine Utrsv_unb_var1 from 6.3.3 </h2>\n",
      "\n",
      "(if you have not yet visited Unit 6.3.3, do so now!)\n",
      "\n",
      "Here is the algorithm:\n",
      "\n",
      "<img src=\"https://studio.edx.org/c4x/UTAustinX/UT.5.01x/asset/6_3_3_Utrsv.png\" alt=\"Upper triangular solve algorithm\" width=75%>\n",
      "    \n",
      "<font color=red> Important: if you make a mistake, rerun ALL cells above the cell in which you were working before you rerun the one in which you are working. </font>"
     ]
    },
    {
     "cell_type": "markdown",
     "metadata": {},
     "source": [
      "Create the routine\n",
      "<code>Utrsv_unb_var1( U, b )</code>\n",
      "with the <a href=\"https://studio.edx.org/c4x/UTAustinX/UT.5.01x/asset/index.html\">Spark webpage</a> for the algorithm given above.\n",
      "\n",
      "<font color=red> Hint: Implement $ \\beta_1 := \\beta - u_{12}^T b_2 $ as <code> laff.dots( -u12t, b2, beta1 ) </code> </font>"
     ]
    },
    {
     "cell_type": "code",
     "collapsed": false,
     "input": [
      "import flame\n",
      "import laff as laff\n",
      "\n",
      "def Utrsv_unb_var1(U, b):\n",
      "\n",
      "    UTL, UTR, \\\n",
      "    UBL, UBR  = flame.part_2x2(U, \\\n",
      "                               0, 0, 'BR')\n",
      "\n",
      "    bT, \\\n",
      "    bB  = flame.part_2x1(b, \\\n",
      "                         0, 'BOTTOM')\n",
      "\n",
      "    while UBR.shape[0] < U.shape[0]:\n",
      "\n",
      "        U00,  u01,       U02,  \\\n",
      "        u10t, upsilon11, u12t, \\\n",
      "        U20,  u21,       U22   = flame.repart_2x2_to_3x3(UTL, UTR, \\\n",
      "                                                         UBL, UBR, \\\n",
      "                                                         1, 1, 'TL')\n",
      "\n",
      "        b0,    \\\n",
      "        beta1, \\\n",
      "        b2     = flame.repart_2x1_to_3x1(bT, \\\n",
      "                                         bB, \\\n",
      "                                         1, 'TOP')\n",
      "\n",
      "        #------------------------------------------------------------#\n",
      "        \n",
      "        laff.dots( -u12t, b2, beta1 ) # beta1 := beta1 - u21 * b2\n",
      "        laff.invscal( upsilon11, beta1 ) # beta1 := beta1/upsilon11\n",
      "\n",
      "        #------------------------------------------------------------#\n",
      "\n",
      "        UTL, UTR, \\\n",
      "        UBL, UBR  = flame.cont_with_3x3_to_2x2(U00,  u01,       U02,  \\\n",
      "                                               u10t, upsilon11, u12t, \\\n",
      "                                               U20,  u21,       U22,  \\\n",
      "                                               'BR')\n",
      "\n",
      "        bT, \\\n",
      "        bB  = flame.cont_with_3x1_to_2x1(b0,    \\\n",
      "                                         beta1, \\\n",
      "                                         b2,    \\\n",
      "                                         'BOTTOM')\n",
      "\n",
      "    flame.merge_2x1(bT, \\\n",
      "                    bB, b)\n",
      "\n"
     ],
     "language": "python",
     "metadata": {},
     "outputs": []
    },
    {
     "cell_type": "markdown",
     "metadata": {},
     "source": [
      "<h3> Test Utrsv_unb_var1 </h3>\n",
      "\n",
      "Take the output from <code>LU_unb_var5</code> and <code>Ltrsv_unb_var1</code> and use it to solve $ U x = b $, where $ U $ is upper triangular and stored in the upper triangular part of $ A $.\n",
      "\n",
      "<font color=red> Important: if you make a mistake, rerun ALL cells above the cell in which you were working before you rerun the one in which you are working. </font>"
     ]
    },
    {
     "cell_type": "code",
     "collapsed": false,
     "input": [
      "# just to be sure, let's start over.  We'll recreate A, x, and b, run all the routines, and\n",
      "# then compare the updated b to the original vector x.\n",
      "\n",
      "A = L * U\n",
      "b = A * x\n",
      "\n",
      "LU_unb_var5( A )\n",
      "Ltrsv_unb_var1( A, b )\n",
      "Utrsv_unb_var1( A, b )\n",
      "\n",
      "print( 'updated b' )\n",
      "print( b )\n",
      "print( 'original x' )\n",
      "print( x )\n",
      "print( 'b - x' )\n",
      "print( b - x )\n"
     ],
     "language": "python",
     "metadata": {},
     "outputs": []
    },
    {
     "cell_type": "markdown",
     "metadata": {},
     "source": [
      "In theory, <code> b - x </code> should yield a zero vector..."
     ]
    },
    {
     "cell_type": "markdown",
     "metadata": {},
     "source": [
      "<h2> Implement the routine Solve from 6.3.4 </h2>\n",
      "\n",
      "(if you have not yet visited Unit 6.3.4, do so now!)\n",
      "\n",
      "This time, we do NOT use Spark!  What we need to do is write a routine that, when given a matrix $ A $ and right-hand side vector $ b $, solves $ A x = b $, overwriting $ A $ with the LU factorization and overwriting $ b $ with the solution vector $ x $:\n",
      "\n",
      "<ul>\n",
      "<li>\n",
      "$ A \\rightarrow L U $, overwriting $ A $ with $ L $ and $ U $.\n",
      "</li>\n",
      "<li>\n",
      "Solve $ L z = b $, overwriting $ b $ with $ z $.\n",
      "</li>\n",
      "<li>\n",
      "Solve $ U x = z $, where $ z $ is stored in vector $ b $ and $ x $ overwrites $ b $.\n",
      "</li>\n",
      "</ul>\n",
      "\n",
      "<font color=red> Important: if you make a mistake, rerun ALL cells above the cell in which you were working before you rerun the one in which you are working. </font>"
     ]
    },
    {
     "cell_type": "markdown",
     "metadata": {},
     "source": [
      "Create the routine\n",
      "<code> Solve( A, b ) </code>"
     ]
    },
    {
     "cell_type": "code",
     "collapsed": false,
     "input": [
      "def Solve( A, b ):\n",
      "    \n",
      "    # insert appropriate calls to routines you have written here!\n",
      "    LU_unb_var5( A )\n",
      "    Ltrsv_unb_var1( A, b )\n",
      "    Utrsv_unb_var1( A, b )\n",
      "    \n",
      "    "
     ],
     "language": "python",
     "metadata": {},
     "outputs": []
    },
    {
     "cell_type": "markdown",
     "metadata": {},
     "source": [
      "<h3> Test Solve </h3>\n",
      "\n",
      "<font color=red> Important: if you make a mistake, rerun ALL cells above the cell in which you were working before you rerun the one in which you are working. </font>"
     ]
    },
    {
     "cell_type": "code",
     "collapsed": false,
     "input": [
      "# just to be sure, let's start over.  We'll recreate A, x, and b, run all the routines, and\n",
      "# then compare the updated b to the original vector x.\n",
      "\n",
      "A = L * U\n",
      "b = A * x\n",
      "\n",
      "Solve( A, b )\n",
      "\n",
      "print( 'updated b' )\n",
      "print( b )\n",
      "print( 'original x' )\n",
      "print( x )\n",
      "print( 'b - x' )\n",
      "print( b - x )\n"
     ],
     "language": "python",
     "metadata": {},
     "outputs": []
    },
    {
     "cell_type": "markdown",
     "metadata": {},
     "source": [
      "In theory, <code> b - x </code> should yield a zero vector..."
     ]
    },
    {
     "cell_type": "markdown",
     "metadata": {},
     "source": [
      "<h3> What if a new right-hand side comes along? </h3>\n",
      "\n",
      "What if we are presented with a new right-hand side, call it $ y $, with which we want to solve $ A x = y $, overwriting $ y $ with the solution?  (We created such a $ y $ at the top of this notebook.)\n",
      "Notice that you can take the matrix $A $ that was modified by <code>Solve</code> and use it with <code>Ltrsv_unb_var1</code> and <code>Utrsv_unb_var1</code>:"
     ]
    },
    {
     "cell_type": "code",
     "collapsed": false,
     "input": [
      "# insert appropriate calls here.\n",
      "\n",
      "Ltrsv_unb_var1( A, y )\n",
      "Utrsv_unb_var1( A, y )\n",
      "\n",
      "print( 'y = ' )\n",
      "print( y )\n",
      "\n",
      "print( 'x2 - y =' )\n",
      "print( x2 - y )"
     ],
     "language": "python",
     "metadata": {},
     "outputs": []
    },
    {
     "cell_type": "markdown",
     "metadata": {},
     "source": [
      "x2 - y should evaluate to the zero vector.\n",
      "\n",
      "\n",
      "<h2> <font color=red> Important: you should not refactor $ A $!!!! <font> </h2>"
     ]
    },
    {
     "cell_type": "code",
     "collapsed": false,
     "input": [],
     "language": "python",
     "metadata": {},
     "outputs": []
    }
   ],
   "metadata": {}
  }
 ]
}