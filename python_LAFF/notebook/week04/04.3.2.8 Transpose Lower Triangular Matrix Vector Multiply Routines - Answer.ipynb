{
 "metadata": {
  "name": ""
 },
 "nbformat": 3,
 "nbformat_minor": 0,
 "worksheets": [
  {
   "cells": [
    {
     "cell_type": "heading",
     "level": 1,
     "metadata": {},
     "source": [
      "Transpose Lower Triangular Matrix Vector Multiply Routines"
     ]
    },
    {
     "cell_type": "markdown",
     "metadata": {},
     "source": [
      "This notebook walks you through how to implement $ y := L^T x + y $ where $ L $ is lower triangular."
     ]
    },
    {
     "cell_type": "heading",
     "level": 2,
     "metadata": {},
     "source": [
      "Getting started"
     ]
    },
    {
     "cell_type": "markdown",
     "metadata": {},
     "source": [
      "We will use some functions that are part of our laff library (of which this function will become a part) as well as some routines from the FLAME API (Application Programming Interface) that allows us to write code that closely resembles how we typeset algorithms using the FLAME notation.  These functions are imported with the \"import laff as laff\" and \"import flame\" statements."
     ]
    },
    {
     "cell_type": "heading",
     "level": 2,
     "metadata": {},
     "source": [
      "The routine <br> <code> Tmvmult_lt_unb_var1( L, x, y ) </code>"
     ]
    },
    {
     "cell_type": "markdown",
     "metadata": {},
     "source": [
      "This routine, given lower triangular $ L \\in \\mathbb{R}^{n \\times n} $, $ x \\in \\mathbb{R}^n $, and $ y \\in \\mathbb{R}^n $, computes $ y := L^T x + y $.  The \"_lt_\" in the name of the routine indicates this is the \"lower triangular, no transpose\" matrix-vector multiplication.  \n",
      "\n",
      "The specific laff functions we will use are \n",
      "<ul>\n",
      "<li> <code> laff.dots( x, y, alpha ) </code> which computes $ \\alpha := x^T y + \\alpha $.  </li>\n",
      "</ul>\n",
      "\n",
      "Use the <a href=\"https://studio.edx.org/c4x/UTAustinX/UT.5.01x/asset/index.html\"> Spark webpage</a> to generate a code skeleton.  (Make sure you adjust the name of the routine.)"
     ]
    },
    {
     "cell_type": "code",
     "collapsed": false,
     "input": [
      "import flame\n",
      "import laff as laff\n",
      "\n",
      "def Tmvmult_lt_unb_var1(L, x, y):\n",
      "\n",
      "    LTL, LTR, \\\n",
      "    LBL, LBR  = flame.part_2x2(L, \\\n",
      "                               0, 0, 'TL')\n",
      "\n",
      "    xT, \\\n",
      "    xB  = flame.part_2x1(x, \\\n",
      "                         0, 'TOP')\n",
      "\n",
      "    yT, \\\n",
      "    yB  = flame.part_2x1(y, \\\n",
      "                         0, 'TOP')\n",
      "\n",
      "    while LTL.shape[0] < L.shape[0]:\n",
      "\n",
      "        L00,  l01,      L02,  \\\n",
      "        l10t, lambda11, l12t, \\\n",
      "        L20,  l21,      L22   = flame.repart_2x2_to_3x3(LTL, LTR, \\\n",
      "                                                        LBL, LBR, \\\n",
      "                                                        1, 1, 'BR')\n",
      "\n",
      "        x0,   \\\n",
      "        chi1, \\\n",
      "        x2    = flame.repart_2x1_to_3x1(xT, \\\n",
      "                                        xB, \\\n",
      "                                        1, 'BOTTOM')\n",
      "\n",
      "        y0,   \\\n",
      "        psi1, \\\n",
      "        y2    = flame.repart_2x1_to_3x1(yT, \\\n",
      "                                        yB, \\\n",
      "                                        1, 'BOTTOM')\n",
      "\n",
      "        #------------------------------------------------------------#\n",
      "\n",
      "        laff.dots( l21, x2, psi1 )\n",
      "        laff.dots( lambda11, chi1, psi1 )\n",
      "\n",
      "        #------------------------------------------------------------#\n",
      "\n",
      "        LTL, LTR, \\\n",
      "        LBL, LBR  = flame.cont_with_3x3_to_2x2(L00,  l01,      L02,  \\\n",
      "                                               l10t, lambda11, l12t, \\\n",
      "                                               L20,  l21,      L22,  \\\n",
      "                                               'TL')\n",
      "\n",
      "        xT, \\\n",
      "        xB  = flame.cont_with_3x1_to_2x1(x0,   \\\n",
      "                                         chi1, \\\n",
      "                                         x2,   \\\n",
      "                                         'TOP')\n",
      "\n",
      "        yT, \\\n",
      "        yB  = flame.cont_with_3x1_to_2x1(y0,   \\\n",
      "                                         psi1, \\\n",
      "                                         y2,   \\\n",
      "                                         'TOP')\n",
      "\n",
      "    flame.merge_2x1(yT, \\\n",
      "                    yB, y)\n",
      "\n"
     ],
     "language": "python",
     "metadata": {},
     "outputs": [],
     "prompt_number": 9
    },
    {
     "cell_type": "heading",
     "level": 2,
     "metadata": {},
     "source": [
      "Testing"
     ]
    },
    {
     "cell_type": "markdown",
     "metadata": {},
     "source": [
      "Let's quickly test the routine by creating a 4 x 4 matrix and related vectors, performing the computation."
     ]
    },
    {
     "cell_type": "code",
     "collapsed": false,
     "input": [
      "from numpy import random\n",
      "from numpy import matrix\n",
      "\n",
      "L = matrix( random.rand( 4,4 ) )\n",
      "x = matrix( random.rand( 4,1 ) )\n",
      "y = matrix( random.rand( 4,1 ) )\n",
      "yold = matrix( random.rand( 4,1 ) )\n",
      "\n",
      "# Notice that L is not lower triangular.  We will only use the lower triangular part.\n",
      "\n",
      "print( 'L before =' )\n",
      "print( L )\n",
      "\n",
      "print( 'x before =' )\n",
      "print( x )\n",
      "\n",
      "print( 'y before =' )\n",
      "print( y )"
     ],
     "language": "python",
     "metadata": {},
     "outputs": [
      {
       "output_type": "stream",
       "stream": "stdout",
       "text": [
        "L before =\n",
        "[[ 0.88616794  0.40606723  0.16328299  0.3386527 ]\n",
        " [ 0.87173516  0.29903437  0.31798923  0.49132978]\n",
        " [ 0.32631909  0.54890067  0.26799137  0.75701587]\n",
        " [ 0.04327648  0.91049171  0.84211068  0.78915377]]\n",
        "x before =\n",
        "[[ 0.86920801]\n",
        " [ 0.29559517]\n",
        " [ 0.31559086]\n",
        " [ 0.47269911]]\n",
        "y before =\n",
        "[[ 0.59696482]\n",
        " [ 0.9663254 ]\n",
        " [ 0.05071396]\n",
        " [ 0.12635731]]\n"
       ]
      }
     ],
     "prompt_number": 10
    },
    {
     "cell_type": "code",
     "collapsed": false,
     "input": [
      "import numpy as np\n",
      "laff.copy( y, yold )   # save the original vector y\n",
      "\n",
      "Tmvmult_lt_unb_var1( L, x, y )\n",
      "\n",
      "print( 'y after =' )\n",
      "print( y )\n",
      "\n",
      "#np.tril makes the matrix lower triangular\n",
      "print( 'y - ( np.transpose( np.tril( L ) ) * x + yold ) = ' )\n",
      "print( y - ( np.transpose( np.tril( L ) ) * x + yold ) )"
     ],
     "language": "python",
     "metadata": {},
     "outputs": [
      {
       "output_type": "stream",
       "stream": "stdout",
       "text": [
        "y after =\n",
        "[[ 1.74834987]\n",
        " [ 1.65833518]\n",
        " [ 0.53335456]\n",
        " [ 0.49938959]]\n",
        "y - ( np.transpose( np.tril( L ) ) * x + yold ) = \n",
        "[[  0.00000000e+00]\n",
        " [  2.22044605e-16]\n",
        " [  0.00000000e+00]\n",
        " [  0.00000000e+00]]\n"
       ]
      }
     ],
     "prompt_number": 11
    },
    {
     "cell_type": "markdown",
     "metadata": {},
     "source": [
      "Bingo, it seems to work!  (Notice that we are doing floating point computations, which means that due to rounding you may not get an exact \"0\".)"
     ]
    },
    {
     "cell_type": "heading",
     "level": 2,
     "metadata": {},
     "source": [
      "Watch your code in action!"
     ]
    },
    {
     "cell_type": "markdown",
     "metadata": {},
     "source": [
      "Copy and paste the code into <a href=\"http://edx-org-utaustinx.s3.amazonaws.com/UT501x/PictureFlame/PictureFLAME.html\"> PictureFLAME </a>, a webpage where you can watch your routine in action.  Just cut and paste into the box.  \n",
      "\n",
      "Disclaimer: we implemented a VERY simple interpreter.  If you do something wrong, we cannot guarantee the results.  But if you do it right, you are in for a treat.\n",
      "\n",
      "If you want to reset the problem, just click in the box into which you pasted the code and hit \"next\" again."
     ]
    },
    {
     "cell_type": "heading",
     "level": 2,
     "metadata": {},
     "source": [
      "The routine <br> <code> Tmvmult_lt_unb_var2( L, x, y ) </code>"
     ]
    },
    {
     "cell_type": "markdown",
     "metadata": {},
     "source": [
      "This routine, given lower triangular $ L \\in \\mathbb{R}^{n \\times n} $, $ x \\in \\mathbb{R}^n $, and $ y \\in \\mathbb{R}^n $, computes $ y := L^T x + y $.  The \"_lt_\" in the name of the routine indicates this is the \"lower triangular, no transpose\" matrix-vector multiplication.  \n",
      "\n",
      "The specific laff functions we will use are \n",
      "<ul>\n",
      "<li> <code> laff.axpy( alpha, x, y ) </code> which computes $ y := \\alpha x +  y  $.  </li>\n",
      "</ul>\n",
      "\n",
      "Use the <a href=\"https://studio.edx.org/c4x/UTAustinX/UT.5.01x/asset/index.html\"> Spark webpage</a> to generate a code skeleton.  (Make sure you adjust the name of the routine.)"
     ]
    },
    {
     "cell_type": "code",
     "collapsed": false,
     "input": [
      "import flame\n",
      "import laff as laff\n",
      "\n",
      "def Tmvmult_lt_unb_var2(L, x, y):\n",
      "\n",
      "    LTL, LTR, \\\n",
      "    LBL, LBR  = flame.part_2x2(L, \\\n",
      "                               0, 0, 'TL')\n",
      "\n",
      "    xT, \\\n",
      "    xB  = flame.part_2x1(x, \\\n",
      "                         0, 'TOP')\n",
      "\n",
      "    yT, \\\n",
      "    yB  = flame.part_2x1(y, \\\n",
      "                         0, 'TOP')\n",
      "\n",
      "    while LTL.shape[0] < L.shape[0]:\n",
      "\n",
      "        L00,  l01,      L02,  \\\n",
      "        l10t, lambda11, l12t, \\\n",
      "        L20,  l21,      L22   = flame.repart_2x2_to_3x3(LTL, LTR, \\\n",
      "                                                        LBL, LBR, \\\n",
      "                                                        1, 1, 'BR')\n",
      "\n",
      "        x0,   \\\n",
      "        chi1, \\\n",
      "        x2    = flame.repart_2x1_to_3x1(xT, \\\n",
      "                                        xB, \\\n",
      "                                        1, 'BOTTOM')\n",
      "\n",
      "        y0,   \\\n",
      "        psi1, \\\n",
      "        y2    = flame.repart_2x1_to_3x1(yT, \\\n",
      "                                        yB, \\\n",
      "                                        1, 'BOTTOM')\n",
      "\n",
      "        #------------------------------------------------------------#\n",
      "\n",
      "        laff.axpy( chi1, lambda11, psi1 )\n",
      "        laff.axpy( chi1, l10t, y0 )\n",
      "\n",
      "        #------------------------------------------------------------#\n",
      "\n",
      "        LTL, LTR, \\\n",
      "        LBL, LBR  = flame.cont_with_3x3_to_2x2(L00,  l01,      L02,  \\\n",
      "                                               l10t, lambda11, l12t, \\\n",
      "                                               L20,  l21,      L22,  \\\n",
      "                                               'TL')\n",
      "\n",
      "        xT, \\\n",
      "        xB  = flame.cont_with_3x1_to_2x1(x0,   \\\n",
      "                                         chi1, \\\n",
      "                                         x2,   \\\n",
      "                                         'TOP')\n",
      "\n",
      "        yT, \\\n",
      "        yB  = flame.cont_with_3x1_to_2x1(y0,   \\\n",
      "                                         psi1, \\\n",
      "                                         y2,   \\\n",
      "                                         'TOP')\n",
      "\n",
      "    flame.merge_2x1(yT, \\\n",
      "                    yB, y)\n",
      "\n"
     ],
     "language": "python",
     "metadata": {},
     "outputs": [],
     "prompt_number": 15
    },
    {
     "cell_type": "heading",
     "level": 2,
     "metadata": {},
     "source": [
      "Testing"
     ]
    },
    {
     "cell_type": "markdown",
     "metadata": {},
     "source": [
      "Let's quickly test the routine by creating a 4 x 4 matrix and related vectors, performing the computation."
     ]
    },
    {
     "cell_type": "code",
     "collapsed": false,
     "input": [
      "from numpy import random\n",
      "from numpy import matrix\n",
      "\n",
      "L = matrix( random.rand( 4,4 ) )\n",
      "x = matrix( random.rand( 4,1 ) )\n",
      "y = matrix( random.rand( 4,1 ) )\n",
      "yold = matrix( random.rand( 4,1 ) )\n",
      "\n",
      "# L is not lower triangular.  We will only use the lower triangular part.\n",
      "\n",
      "print( 'L before =' )\n",
      "print( L )\n",
      "\n",
      "print( 'x before =' )\n",
      "print( x )\n",
      "\n",
      "print( 'y before =' )\n",
      "print( y )"
     ],
     "language": "python",
     "metadata": {},
     "outputs": [
      {
       "output_type": "stream",
       "stream": "stdout",
       "text": [
        "L before =\n",
        "[[ 0.33461316  0.96647527  0.39349209  0.42209532]\n",
        " [ 0.67151031  0.64913187  0.311647    0.35674295]\n",
        " [ 0.52443348  0.06565326  0.38650167  0.29210554]\n",
        " [ 0.38004964  0.74751853  0.33733876  0.57637743]]\n",
        "x before =\n",
        "[[ 0.91042415]\n",
        " [ 0.39414958]\n",
        " [ 0.69807114]\n",
        " [ 0.18088466]]\n",
        "y before =\n",
        "[[ 0.7549554 ]\n",
        " [ 0.81821791]\n",
        " [ 0.17127376]\n",
        " [ 0.44975233]]\n"
       ]
      }
     ],
     "prompt_number": 16
    },
    {
     "cell_type": "code",
     "collapsed": false,
     "input": [
      "laff.copy( y, yold )   # save the original vector y\n",
      "\n",
      "Tmvmult_lt_unb_var2( L, x, y )\n",
      "\n",
      "print( 'y after =' )\n",
      "print( y )\n",
      "\n",
      "#np.tril makes the matrix lower triangular\n",
      "print( 'y - ( np.transpose( np.tril( L ) ) * x + yold ) = ' )\n",
      "print( y - ( np.transpose( np.tril( L ) ) * x + yold ) )"
     ],
     "language": "python",
     "metadata": {},
     "outputs": [
      {
       "output_type": "stream",
       "stream": "stdout",
       "text": [
        "y after =\n",
        "[[ 1.75910784]\n",
        " [ 1.25511825]\n",
        " [ 0.50209883]\n",
        " [ 0.55401016]]\n",
        "y - ( np.transpose( np.tril( L ) ) * x + yold ) = \n",
        "[[  0.00000000e+00]\n",
        " [  0.00000000e+00]\n",
        " [  1.11022302e-16]\n",
        " [  0.00000000e+00]]\n"
       ]
      }
     ],
     "prompt_number": 17
    },
    {
     "cell_type": "markdown",
     "metadata": {},
     "source": [
      "Bingo, it seems to work!  (Notice that we are doing floating point computations, which means that due to rounding you may not get an exact \"0\".)"
     ]
    },
    {
     "cell_type": "heading",
     "level": 2,
     "metadata": {},
     "source": [
      "Watch your code in action!"
     ]
    },
    {
     "cell_type": "markdown",
     "metadata": {},
     "source": [
      "Copy and paste the code into <a href=\"http://edx-org-utaustinx.s3.amazonaws.com/UT501x/PictureFlame/PictureFLAME.html\"> PictureFLAME </a>, a webpage where you can watch your routine in action.  Just cut and paste into the box.  \n",
      "\n",
      "Disclaimer: we implemented a VERY simple interpreter.  If you do something wrong, we cannot guarantee the results.  But if you do it right, you are in for a treat.\n",
      "\n",
      "If you want to reset the problem, just click in the box into which you pasted the code and hit \"next\" again."
     ]
    }
   ],
   "metadata": {}
  }
 ]
}