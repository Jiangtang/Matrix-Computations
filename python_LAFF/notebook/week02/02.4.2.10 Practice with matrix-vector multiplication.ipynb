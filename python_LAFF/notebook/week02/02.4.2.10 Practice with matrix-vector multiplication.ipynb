{
 "metadata": {
  "name": ""
 },
 "nbformat": 3,
 "nbformat_minor": 0,
 "worksheets": [
  {
   "cells": [
    {
     "cell_type": "heading",
     "level": 2,
     "metadata": {},
     "source": [
      "Practice with matrix-vector multiplication"
     ]
    },
    {
     "cell_type": "markdown",
     "metadata": {},
     "source": [
      "To practice your ability to compute a matrix-vector product, run the cell below and when you are ready, check your answer by running the cell below it.  To do another one, just repeat by running the cell below, and then the one below it!"
     ]
    },
    {
     "cell_type": "code",
     "collapsed": false,
     "input": [
      "import generate_problems as gp\n",
      "print(\"What is the result of the matrix vector product below?\")\n",
      "\n",
      "p = gp.Problem()\n",
      "\n",
      "p.new_problem()"
     ],
     "language": "python",
     "metadata": {},
     "outputs": []
    },
    {
     "cell_type": "code",
     "collapsed": false,
     "input": [
      "p.show_answer()"
     ],
     "language": "python",
     "metadata": {},
     "outputs": []
    },
    {
     "cell_type": "code",
     "collapsed": false,
     "input": [],
     "language": "python",
     "metadata": {},
     "outputs": []
    }
   ],
   "metadata": {}
  }
 ]
}